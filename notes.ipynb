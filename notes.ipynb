{
 "cells": [
  {
   "cell_type": "markdown",
   "id": "b9b4dc84",
   "metadata": {},
   "source": [
    "visual articulation"
   ]
  }
 ],
 "metadata": {
  "kernelspec": {
   "display_name": "venv (3.13.1)",
   "language": "python",
   "name": "python3"
  },
  "language_info": {
   "name": "python",
   "version": "3.13.1"
  }
 },
 "nbformat": 4,
 "nbformat_minor": 5
}
