{
 "cells": [
  {
   "cell_type": "markdown",
   "id": "7b17fba4",
   "metadata": {},
   "source": [
    "TO DO:\n",
    "Create the basic framework for the trading bot (which will trade NQ and ES futures)\n",
    "    - different parameters and datapoints are worth set 'points' according to the traded instrument\n",
    "        points max at 10 and theoretically help with decision making, points are derived from specific confluences and correlated data changes\n",
    "    - set timeframe on which the bot will look to execute trades\n",
    "    - list out the parameters and datapoints that could affect price action\n",
    "    - these points could be randomized by an AI to improve efficiency and profitability\n",
    "    - plan the linear progression of the trading format (bullish, long, equity levels)\n",
    "    - choose an API to derive financial data and data that would affect price action\n",
    "    - introduce some mathematical formulas to improve performance\n",
    "    - implement autonomous function and ability to execute orders independently\n",
    "    - user interface which displays postiion and trading data\n",
    "    - functionality which allows bot to change timeframes\n",
    "    - broker to use\n",
    "\n",
    "Parameters & Data Sources:\n",
    "forex factory (high impact news & market sentiment)\n",
    "personal bias on market sentiment\n",
    "API for data\n",
    "\n"
   ]
  }
 ],
 "metadata": {
  "kernelspec": {
   "display_name": "venv (3.13.1)",
   "language": "python",
   "name": "python3"
  },
  "language_info": {
   "name": "python",
   "version": "3.13.1"
  }
 },
 "nbformat": 4,
 "nbformat_minor": 5
}
